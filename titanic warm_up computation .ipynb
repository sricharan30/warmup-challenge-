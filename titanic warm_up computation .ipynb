{
 "cells": [
  {
   "cell_type": "code",
   "execution_count": 1,
   "id": "6f40b076",
   "metadata": {
    "_cell_guid": "b1076dfc-b9ad-4769-8c92-a6c4dae69d19",
    "_uuid": "8f2839f25d086af736a60e9eeb907d3b93b6e0e5",
    "execution": {
     "iopub.execute_input": "2022-09-04T16:04:10.108160Z",
     "iopub.status.busy": "2022-09-04T16:04:10.107635Z",
     "iopub.status.idle": "2022-09-04T16:04:11.931274Z",
     "shell.execute_reply": "2022-09-04T16:04:11.929864Z"
    },
    "papermill": {
     "duration": 1.837665,
     "end_time": "2022-09-04T16:04:11.934905",
     "exception": false,
     "start_time": "2022-09-04T16:04:10.097240",
     "status": "completed"
    },
    "tags": []
   },
   "outputs": [],
   "source": [
    "\n",
    "import numpy as np \n",
    "import pandas as pd \n",
    "import seaborn as sns\n",
    "import matplotlib.pyplot as plt\n",
    "from xgboost import XGBClassifier\n",
    "from sklearn.metrics import accuracy_score\n",
    "from sklearn.ensemble._forest import RandomForestClassifier\n",
    "from sklearn.tree import DecisionTreeClassifier\n",
    "from sklearn.ensemble import GradientBoostingClassifier"
   ]
  },
  {
   "cell_type": "code",
   "execution_count": 2,
   "id": "05cbd693",
   "metadata": {
    "execution": {
     "iopub.execute_input": "2022-09-04T16:04:11.953264Z",
     "iopub.status.busy": "2022-09-04T16:04:11.952742Z",
     "iopub.status.idle": "2022-09-04T16:04:11.986939Z",
     "shell.execute_reply": "2022-09-04T16:04:11.985781Z"
    },
    "papermill": {
     "duration": 0.04655,
     "end_time": "2022-09-04T16:04:11.989864",
     "exception": false,
     "start_time": "2022-09-04T16:04:11.943314",
     "status": "completed"
    },
    "tags": []
   },
   "outputs": [],
   "source": [
    "train = pd.read_csv(r'/Users/sricharanmaddena/Downloads/titanic/train.csv')\n",
    "test = pd.read_csv(r'/Users/sricharanmaddena/Downloads/titanic/test.csv')"
   ]
  },
  {
   "cell_type": "code",
   "execution_count": 3,
   "id": "692b124a",
   "metadata": {
    "execution": {
     "iopub.execute_input": "2022-09-04T16:04:12.025856Z",
     "iopub.status.busy": "2022-09-04T16:04:12.024857Z",
     "iopub.status.idle": "2022-09-04T16:04:12.042043Z",
     "shell.execute_reply": "2022-09-04T16:04:12.040363Z"
    },
    "papermill": {
     "duration": 0.030911,
     "end_time": "2022-09-04T16:04:12.045711",
     "exception": false,
     "start_time": "2022-09-04T16:04:12.014800",
     "status": "completed"
    },
    "tags": []
   },
   "outputs": [],
   "source": [
    "#Exploratory Data Analysis\n",
    "#dropping unwanted columns\n",
    "A_total = train.drop([\"Name\",\"Cabin\",\"Ticket\"],axis=1)"
   ]
  },
  {
   "cell_type": "code",
   "execution_count": 4,
   "id": "c6599f6d",
   "metadata": {
    "execution": {
     "iopub.execute_input": "2022-09-04T16:04:12.064183Z",
     "iopub.status.busy": "2022-09-04T16:04:12.063284Z",
     "iopub.status.idle": "2022-09-04T16:04:12.089641Z",
     "shell.execute_reply": "2022-09-04T16:04:12.088114Z"
    },
    "papermill": {
     "duration": 0.03881,
     "end_time": "2022-09-04T16:04:12.092538",
     "exception": false,
     "start_time": "2022-09-04T16:04:12.053728",
     "status": "completed"
    },
    "tags": []
   },
   "outputs": [
    {
     "data": {
      "text/html": [
       "<div>\n",
       "<style scoped>\n",
       "    .dataframe tbody tr th:only-of-type {\n",
       "        vertical-align: middle;\n",
       "    }\n",
       "\n",
       "    .dataframe tbody tr th {\n",
       "        vertical-align: top;\n",
       "    }\n",
       "\n",
       "    .dataframe thead th {\n",
       "        text-align: right;\n",
       "    }\n",
       "</style>\n",
       "<table border=\"1\" class=\"dataframe\">\n",
       "  <thead>\n",
       "    <tr style=\"text-align: right;\">\n",
       "      <th></th>\n",
       "      <th>PassengerId</th>\n",
       "      <th>Survived</th>\n",
       "      <th>Pclass</th>\n",
       "      <th>Sex</th>\n",
       "      <th>Age</th>\n",
       "      <th>SibSp</th>\n",
       "      <th>Parch</th>\n",
       "      <th>Fare</th>\n",
       "      <th>Embarked</th>\n",
       "    </tr>\n",
       "  </thead>\n",
       "  <tbody>\n",
       "    <tr>\n",
       "      <th>0</th>\n",
       "      <td>1</td>\n",
       "      <td>0</td>\n",
       "      <td>3</td>\n",
       "      <td>male</td>\n",
       "      <td>22.0</td>\n",
       "      <td>1</td>\n",
       "      <td>0</td>\n",
       "      <td>7.2500</td>\n",
       "      <td>S</td>\n",
       "    </tr>\n",
       "    <tr>\n",
       "      <th>1</th>\n",
       "      <td>2</td>\n",
       "      <td>1</td>\n",
       "      <td>1</td>\n",
       "      <td>female</td>\n",
       "      <td>38.0</td>\n",
       "      <td>1</td>\n",
       "      <td>0</td>\n",
       "      <td>71.2833</td>\n",
       "      <td>C</td>\n",
       "    </tr>\n",
       "    <tr>\n",
       "      <th>2</th>\n",
       "      <td>3</td>\n",
       "      <td>1</td>\n",
       "      <td>3</td>\n",
       "      <td>female</td>\n",
       "      <td>26.0</td>\n",
       "      <td>0</td>\n",
       "      <td>0</td>\n",
       "      <td>7.9250</td>\n",
       "      <td>S</td>\n",
       "    </tr>\n",
       "    <tr>\n",
       "      <th>3</th>\n",
       "      <td>4</td>\n",
       "      <td>1</td>\n",
       "      <td>1</td>\n",
       "      <td>female</td>\n",
       "      <td>35.0</td>\n",
       "      <td>1</td>\n",
       "      <td>0</td>\n",
       "      <td>53.1000</td>\n",
       "      <td>S</td>\n",
       "    </tr>\n",
       "    <tr>\n",
       "      <th>4</th>\n",
       "      <td>5</td>\n",
       "      <td>0</td>\n",
       "      <td>3</td>\n",
       "      <td>male</td>\n",
       "      <td>35.0</td>\n",
       "      <td>0</td>\n",
       "      <td>0</td>\n",
       "      <td>8.0500</td>\n",
       "      <td>S</td>\n",
       "    </tr>\n",
       "  </tbody>\n",
       "</table>\n",
       "</div>"
      ],
      "text/plain": [
       "   PassengerId  Survived  Pclass     Sex   Age  SibSp  Parch     Fare Embarked\n",
       "0            1         0       3    male  22.0      1      0   7.2500        S\n",
       "1            2         1       1  female  38.0      1      0  71.2833        C\n",
       "2            3         1       3  female  26.0      0      0   7.9250        S\n",
       "3            4         1       1  female  35.0      1      0  53.1000        S\n",
       "4            5         0       3    male  35.0      0      0   8.0500        S"
      ]
     },
     "execution_count": 4,
     "metadata": {},
     "output_type": "execute_result"
    }
   ],
   "source": [
    "A_total.head()"
   ]
  },
  {
   "cell_type": "code",
   "execution_count": 5,
   "id": "b6a91a7d",
   "metadata": {
    "execution": {
     "iopub.execute_input": "2022-09-04T16:04:12.111361Z",
     "iopub.status.busy": "2022-09-04T16:04:12.110869Z",
     "iopub.status.idle": "2022-09-04T16:04:12.119218Z",
     "shell.execute_reply": "2022-09-04T16:04:12.117939Z"
    },
    "papermill": {
     "duration": 0.020787,
     "end_time": "2022-09-04T16:04:12.121734",
     "exception": false,
     "start_time": "2022-09-04T16:04:12.100947",
     "status": "completed"
    },
    "tags": []
   },
   "outputs": [
    {
     "data": {
      "text/plain": [
       "(891, 9)"
      ]
     },
     "execution_count": 5,
     "metadata": {},
     "output_type": "execute_result"
    }
   ],
   "source": [
    "A_total.shape"
   ]
  },
  {
   "cell_type": "code",
   "execution_count": 6,
   "id": "ac73fd63",
   "metadata": {
    "execution": {
     "iopub.execute_input": "2022-09-04T16:04:12.140454Z",
     "iopub.status.busy": "2022-09-04T16:04:12.139964Z",
     "iopub.status.idle": "2022-09-04T16:04:12.151929Z",
     "shell.execute_reply": "2022-09-04T16:04:12.150687Z"
    },
    "papermill": {
     "duration": 0.024579,
     "end_time": "2022-09-04T16:04:12.154587",
     "exception": false,
     "start_time": "2022-09-04T16:04:12.130008",
     "status": "completed"
    },
    "tags": []
   },
   "outputs": [
    {
     "data": {
      "text/plain": [
       "PassengerId      0\n",
       "Survived         0\n",
       "Pclass           0\n",
       "Sex              0\n",
       "Age            177\n",
       "SibSp            0\n",
       "Parch            0\n",
       "Fare             0\n",
       "Embarked         2\n",
       "dtype: int64"
      ]
     },
     "execution_count": 6,
     "metadata": {},
     "output_type": "execute_result"
    }
   ],
   "source": [
    "A_total.isnull().sum()"
   ]
  },
  {
   "cell_type": "code",
   "execution_count": 7,
   "id": "91f389b3",
   "metadata": {
    "execution": {
     "iopub.execute_input": "2022-09-04T16:04:12.174708Z",
     "iopub.status.busy": "2022-09-04T16:04:12.174148Z",
     "iopub.status.idle": "2022-09-04T16:04:12.218197Z",
     "shell.execute_reply": "2022-09-04T16:04:12.216698Z"
    },
    "papermill": {
     "duration": 0.056539,
     "end_time": "2022-09-04T16:04:12.220785",
     "exception": false,
     "start_time": "2022-09-04T16:04:12.164246",
     "status": "completed"
    },
    "tags": []
   },
   "outputs": [
    {
     "data": {
      "text/html": [
       "<div>\n",
       "<style scoped>\n",
       "    .dataframe tbody tr th:only-of-type {\n",
       "        vertical-align: middle;\n",
       "    }\n",
       "\n",
       "    .dataframe tbody tr th {\n",
       "        vertical-align: top;\n",
       "    }\n",
       "\n",
       "    .dataframe thead th {\n",
       "        text-align: right;\n",
       "    }\n",
       "</style>\n",
       "<table border=\"1\" class=\"dataframe\">\n",
       "  <thead>\n",
       "    <tr style=\"text-align: right;\">\n",
       "      <th></th>\n",
       "      <th>PassengerId</th>\n",
       "      <th>Survived</th>\n",
       "      <th>Pclass</th>\n",
       "      <th>Age</th>\n",
       "      <th>SibSp</th>\n",
       "      <th>Parch</th>\n",
       "      <th>Fare</th>\n",
       "    </tr>\n",
       "  </thead>\n",
       "  <tbody>\n",
       "    <tr>\n",
       "      <th>count</th>\n",
       "      <td>891.000000</td>\n",
       "      <td>891.000000</td>\n",
       "      <td>891.000000</td>\n",
       "      <td>714.000000</td>\n",
       "      <td>891.000000</td>\n",
       "      <td>891.000000</td>\n",
       "      <td>891.000000</td>\n",
       "    </tr>\n",
       "    <tr>\n",
       "      <th>mean</th>\n",
       "      <td>446.000000</td>\n",
       "      <td>0.383838</td>\n",
       "      <td>2.308642</td>\n",
       "      <td>29.699118</td>\n",
       "      <td>0.523008</td>\n",
       "      <td>0.381594</td>\n",
       "      <td>32.204208</td>\n",
       "    </tr>\n",
       "    <tr>\n",
       "      <th>std</th>\n",
       "      <td>257.353842</td>\n",
       "      <td>0.486592</td>\n",
       "      <td>0.836071</td>\n",
       "      <td>14.526497</td>\n",
       "      <td>1.102743</td>\n",
       "      <td>0.806057</td>\n",
       "      <td>49.693429</td>\n",
       "    </tr>\n",
       "    <tr>\n",
       "      <th>min</th>\n",
       "      <td>1.000000</td>\n",
       "      <td>0.000000</td>\n",
       "      <td>1.000000</td>\n",
       "      <td>0.420000</td>\n",
       "      <td>0.000000</td>\n",
       "      <td>0.000000</td>\n",
       "      <td>0.000000</td>\n",
       "    </tr>\n",
       "    <tr>\n",
       "      <th>25%</th>\n",
       "      <td>223.500000</td>\n",
       "      <td>0.000000</td>\n",
       "      <td>2.000000</td>\n",
       "      <td>20.125000</td>\n",
       "      <td>0.000000</td>\n",
       "      <td>0.000000</td>\n",
       "      <td>7.910400</td>\n",
       "    </tr>\n",
       "    <tr>\n",
       "      <th>50%</th>\n",
       "      <td>446.000000</td>\n",
       "      <td>0.000000</td>\n",
       "      <td>3.000000</td>\n",
       "      <td>28.000000</td>\n",
       "      <td>0.000000</td>\n",
       "      <td>0.000000</td>\n",
       "      <td>14.454200</td>\n",
       "    </tr>\n",
       "    <tr>\n",
       "      <th>75%</th>\n",
       "      <td>668.500000</td>\n",
       "      <td>1.000000</td>\n",
       "      <td>3.000000</td>\n",
       "      <td>38.000000</td>\n",
       "      <td>1.000000</td>\n",
       "      <td>0.000000</td>\n",
       "      <td>31.000000</td>\n",
       "    </tr>\n",
       "    <tr>\n",
       "      <th>max</th>\n",
       "      <td>891.000000</td>\n",
       "      <td>1.000000</td>\n",
       "      <td>3.000000</td>\n",
       "      <td>80.000000</td>\n",
       "      <td>8.000000</td>\n",
       "      <td>6.000000</td>\n",
       "      <td>512.329200</td>\n",
       "    </tr>\n",
       "  </tbody>\n",
       "</table>\n",
       "</div>"
      ],
      "text/plain": [
       "       PassengerId    Survived      Pclass         Age       SibSp  \\\n",
       "count   891.000000  891.000000  891.000000  714.000000  891.000000   \n",
       "mean    446.000000    0.383838    2.308642   29.699118    0.523008   \n",
       "std     257.353842    0.486592    0.836071   14.526497    1.102743   \n",
       "min       1.000000    0.000000    1.000000    0.420000    0.000000   \n",
       "25%     223.500000    0.000000    2.000000   20.125000    0.000000   \n",
       "50%     446.000000    0.000000    3.000000   28.000000    0.000000   \n",
       "75%     668.500000    1.000000    3.000000   38.000000    1.000000   \n",
       "max     891.000000    1.000000    3.000000   80.000000    8.000000   \n",
       "\n",
       "            Parch        Fare  \n",
       "count  891.000000  891.000000  \n",
       "mean     0.381594   32.204208  \n",
       "std      0.806057   49.693429  \n",
       "min      0.000000    0.000000  \n",
       "25%      0.000000    7.910400  \n",
       "50%      0.000000   14.454200  \n",
       "75%      0.000000   31.000000  \n",
       "max      6.000000  512.329200  "
      ]
     },
     "execution_count": 7,
     "metadata": {},
     "output_type": "execute_result"
    }
   ],
   "source": [
    "A_total.describe()"
   ]
  },
  {
   "cell_type": "code",
   "execution_count": 8,
   "id": "7f7b0b4b",
   "metadata": {
    "execution": {
     "iopub.execute_input": "2022-09-04T16:04:12.240822Z",
     "iopub.status.busy": "2022-09-04T16:04:12.240292Z",
     "iopub.status.idle": "2022-09-04T16:04:12.247422Z",
     "shell.execute_reply": "2022-09-04T16:04:12.246506Z"
    },
    "papermill": {
     "duration": 0.020278,
     "end_time": "2022-09-04T16:04:12.249970",
     "exception": false,
     "start_time": "2022-09-04T16:04:12.229692",
     "status": "completed"
    },
    "tags": []
   },
   "outputs": [
    {
     "data": {
      "text/plain": [
       "Index(['PassengerId', 'Survived', 'Pclass', 'Sex', 'Age', 'SibSp', 'Parch',\n",
       "       'Fare', 'Embarked'],\n",
       "      dtype='object')"
      ]
     },
     "execution_count": 8,
     "metadata": {},
     "output_type": "execute_result"
    }
   ],
   "source": [
    "A_total.columns"
   ]
  },
  {
   "cell_type": "code",
   "execution_count": 9,
   "id": "7548b31b",
   "metadata": {
    "execution": {
     "iopub.execute_input": "2022-09-04T16:04:12.270858Z",
     "iopub.status.busy": "2022-09-04T16:04:12.269462Z",
     "iopub.status.idle": "2022-09-04T16:04:12.783099Z",
     "shell.execute_reply": "2022-09-04T16:04:12.782155Z"
    },
    "papermill": {
     "duration": 0.526565,
     "end_time": "2022-09-04T16:04:12.785568",
     "exception": false,
     "start_time": "2022-09-04T16:04:12.259003",
     "status": "completed"
    },
    "tags": []
   },
   "outputs": [
    {
     "data": {
      "image/png": "[encoded data removed]",
      "text/plain": [
       "<Figure size 792x648 with 2 Axes>"
      ]
     },
     "metadata": {
      "needs_background": "light"
     },
     "output_type": "display_data"
    }
   ],
   "source": [
    "plt.figure(figsize=(11,9))\n",
    "sns.heatmap(data = A_total.corr(), annot = True, cmap = 'Greens_r')\n",
    "plt.show()"
   ]
  },
  {
   "cell_type": "code",
   "execution_count": 10,
   "id": "0fdce5cc",
   "metadata": {
    "execution": {
     "iopub.execute_input": "2022-09-04T16:04:12.823982Z",
     "iopub.status.busy": "2022-09-04T16:04:12.823357Z",
     "iopub.status.idle": "2022-09-04T16:04:12.840216Z",
     "shell.execute_reply": "2022-09-04T16:04:12.839312Z"
    },
    "papermill": {
     "duration": 0.030148,
     "end_time": "2022-09-04T16:04:12.842711",
     "exception": false,
     "start_time": "2022-09-04T16:04:12.812563",
     "status": "completed"
    },
    "tags": []
   },
   "outputs": [
    {
     "name": "stdout",
     "output_type": "stream",
     "text": [
      "<class 'pandas.core.frame.DataFrame'>\n",
      "RangeIndex: 891 entries, 0 to 890\n",
      "Data columns (total 9 columns):\n",
      " #   Column       Non-Null Count  Dtype  \n",
      "---  ------       --------------  -----  \n",
      " 0   PassengerId  891 non-null    int64  \n",
      " 1   Survived     891 non-null    int64  \n",
      " 2   Pclass       891 non-null    int64  \n",
      " 3   Sex          891 non-null    object \n",
      " 4   Age          714 non-null    float64\n",
      " 5   SibSp        891 non-null    int64  \n",
      " 6   Parch        891 non-null    int64  \n",
      " 7   Fare         891 non-null    float64\n",
      " 8   Embarked     889 non-null    object \n",
      "dtypes: float64(2), int64(5), object(2)\n",
      "memory usage: 62.8+ KB\n"
     ]
    }
   ],
   "source": [
    "A_total.info()"
   ]
  },
  {
   "cell_type": "code",
   "execution_count": 11,
   "id": "8f8957cf",
   "metadata": {
    "scrolled": true
   },
   "outputs": [
    {
     "data": {
      "text/plain": [
       "<AxesSubplot:xlabel='Fare'>"
      ]
     },
     "execution_count": 11,
     "metadata": {},
     "output_type": "execute_result"
    },
    {
     "data": {
      "image/png": "[encoded data removed]",
      "text/plain": [
       "<Figure size 432x288 with 1 Axes>"
      ]
     },
     "metadata": {
      "needs_background": "light"
     },
     "output_type": "display_data"
    }
   ],
   "source": [
    "sns.boxenplot(x=A_total[\"Fare\"])"
   ]
  },
  {
   "cell_type": "code",
   "execution_count": 12,
   "id": "0dbb220e",
   "metadata": {},
   "outputs": [
    {
     "data": {
      "text/plain": [
       "<AxesSubplot:xlabel='Pclass', ylabel='count'>"
      ]
     },
     "execution_count": 12,
     "metadata": {},
     "output_type": "execute_result"
    },
    {
     "data": {
      "image/png": "[encoded data removed]",
      "text/plain": [
       "<Figure size 432x288 with 1 Axes>"
      ]
     },
     "metadata": {
      "needs_background": "light"
     },
     "output_type": "display_data"
    }
   ],
   "source": [
    "sns.countplot(x=A_total[\"Pclass\"])"
   ]
  },
  {
   "cell_type": "code",
   "execution_count": 13,
   "id": "3a86b829",
   "metadata": {},
   "outputs": [
    {
     "name": "stdout",
     "output_type": "stream",
     "text": [
      "2.308641975308642\n"
     ]
    }
   ],
   "source": [
    "#finding mean for pclass.\n",
    "print(A_total[\"Pclass\"].mean())"
   ]
  },
  {
   "cell_type": "code",
   "execution_count": 14,
   "id": "00dfb548",
   "metadata": {},
   "outputs": [
    {
     "name": "stdout",
     "output_type": "stream",
     "text": [
      "3.0\n"
     ]
    }
   ],
   "source": [
    "#finding the median for pclass.\n",
    "print(A_total[\"Pclass\"].median())"
   ]
  },
  {
   "cell_type": "code",
   "execution_count": 15,
   "id": "a54fec77",
   "metadata": {
    "execution": {
     "iopub.execute_input": "2022-09-04T16:04:13.279057Z",
     "iopub.status.busy": "2022-09-04T16:04:13.278641Z",
     "iopub.status.idle": "2022-09-04T16:04:13.289135Z",
     "shell.execute_reply": "2022-09-04T16:04:13.288004Z"
    },
    "papermill": {
     "duration": 0.023788,
     "end_time": "2022-09-04T16:04:13.291591",
     "exception": false,
     "start_time": "2022-09-04T16:04:13.267803",
     "status": "completed"
    },
    "tags": []
   },
   "outputs": [
    {
     "data": {
      "text/plain": [
       "PassengerId      0\n",
       "Survived         0\n",
       "Pclass           0\n",
       "Sex              0\n",
       "Age            177\n",
       "SibSp            0\n",
       "Parch            0\n",
       "Fare             0\n",
       "Embarked         2\n",
       "dtype: int64"
      ]
     },
     "execution_count": 15,
     "metadata": {},
     "output_type": "execute_result"
    }
   ],
   "source": [
    "A_total.isnull().sum()"
   ]
  },
  {
   "cell_type": "code",
   "execution_count": 16,
   "id": "b5b541d3",
   "metadata": {
    "execution": {
     "iopub.execute_input": "2022-09-04T16:04:13.332331Z",
     "iopub.status.busy": "2022-09-04T16:04:13.331909Z",
     "iopub.status.idle": "2022-09-04T16:04:13.339732Z",
     "shell.execute_reply": "2022-09-04T16:04:13.338519Z"
    },
    "papermill": {
     "duration": 0.021995,
     "end_time": "2022-09-04T16:04:13.342605",
     "exception": false,
     "start_time": "2022-09-04T16:04:13.320610",
     "status": "completed"
    },
    "tags": []
   },
   "outputs": [],
   "source": [
    "#dropping empty rows\n",
    "train_fin = A_total.dropna()"
   ]
  },
  {
   "cell_type": "code",
   "execution_count": 17,
   "id": "465917e2",
   "metadata": {
    "execution": {
     "iopub.execute_input": "2022-09-04T16:04:13.364124Z",
     "iopub.status.busy": "2022-09-04T16:04:13.363658Z",
     "iopub.status.idle": "2022-09-04T16:04:13.373863Z",
     "shell.execute_reply": "2022-09-04T16:04:13.372799Z"
    },
    "papermill": {
     "duration": 0.023448,
     "end_time": "2022-09-04T16:04:13.376102",
     "exception": false,
     "start_time": "2022-09-04T16:04:13.352654",
     "status": "completed"
    },
    "tags": []
   },
   "outputs": [
    {
     "data": {
      "text/plain": [
       "PassengerId    0\n",
       "Survived       0\n",
       "Pclass         0\n",
       "Sex            0\n",
       "Age            0\n",
       "SibSp          0\n",
       "Parch          0\n",
       "Fare           0\n",
       "Embarked       0\n",
       "dtype: int64"
      ]
     },
     "execution_count": 17,
     "metadata": {},
     "output_type": "execute_result"
    }
   ],
   "source": [
    "#checking if the rows are dropped\n",
    "train_fin.isnull().sum()"
   ]
  },
  {
   "cell_type": "code",
   "execution_count": 18,
   "id": "e1e12078",
   "metadata": {
    "execution": {
     "iopub.execute_input": "2022-09-04T16:04:13.399556Z",
     "iopub.status.busy": "2022-09-04T16:04:13.397280Z",
     "iopub.status.idle": "2022-09-04T16:04:13.406060Z",
     "shell.execute_reply": "2022-09-04T16:04:13.404660Z"
    },
    "papermill": {
     "duration": 0.022377,
     "end_time": "2022-09-04T16:04:13.408453",
     "exception": false,
     "start_time": "2022-09-04T16:04:13.386076",
     "status": "completed"
    },
    "tags": []
   },
   "outputs": [
    {
     "data": {
      "text/plain": [
       "(712, 9)"
      ]
     },
     "execution_count": 18,
     "metadata": {},
     "output_type": "execute_result"
    }
   ],
   "source": [
    "#checking shape are dropping\n",
    "train_fin.shape"
   ]
  },
  {
   "cell_type": "code",
   "execution_count": 19,
   "id": "012f6f31",
   "metadata": {
    "_kg_hide-output": true,
    "execution": {
     "iopub.execute_input": "2022-09-04T16:04:13.431217Z",
     "iopub.status.busy": "2022-09-04T16:04:13.430793Z",
     "iopub.status.idle": "2022-09-04T16:04:13.451012Z",
     "shell.execute_reply": "2022-09-04T16:04:13.449814Z"
    },
    "papermill": {
     "duration": 0.034838,
     "end_time": "2022-09-04T16:04:13.453679",
     "exception": false,
     "start_time": "2022-09-04T16:04:13.418841",
     "status": "completed"
    },
    "tags": []
   },
   "outputs": [
    {
     "name": "stderr",
     "output_type": "stream",
     "text": [
      "/var/folders/_v/png6d0td0jvcqb5r51btftz00000gn/T/ipykernel_4316/3586165558.py:4: SettingWithCopyWarning: \n",
      "A value is trying to be set on a copy of a slice from a DataFrame.\n",
      "Try using .loc[row_indexer,col_indexer] = value instead\n",
      "\n",
      "See the caveats in the documentation: https://pandas.pydata.org/pandas-docs/stable/user_guide/indexing.html#returning-a-view-versus-a-copy\n",
      "  train_fin[\"Sex\"] = train_fin[\"Sex\"].astype(str).astype(float)\n",
      "/var/folders/_v/png6d0td0jvcqb5r51btftz00000gn/T/ipykernel_4316/3586165558.py:10: SettingWithCopyWarning: \n",
      "A value is trying to be set on a copy of a slice from a DataFrame.\n",
      "Try using .loc[row_indexer,col_indexer] = value instead\n",
      "\n",
      "See the caveats in the documentation: https://pandas.pydata.org/pandas-docs/stable/user_guide/indexing.html#returning-a-view-versus-a-copy\n",
      "  train_fin[\"Embarked\"] = train_fin[\"Embarked\"].astype(str).astype(float)\n"
     ]
    }
   ],
   "source": [
    "#changing gender to numeric\n",
    "train_fin.loc[train_fin.Sex=='female','Sex']=1\n",
    "train_fin.loc[train_fin.Sex=='male','Sex']=0\n",
    "train_fin[\"Sex\"] = train_fin[\"Sex\"].astype(str).astype(float)\n",
    "\n",
    "#changing strings to numeric\n",
    "train_fin.loc[train_fin.Embarked =='S','Embarked']= 3\n",
    "train_fin.loc[train_fin.Embarked =='C','Embarked']=2\n",
    "train_fin.loc[train_fin.Embarked =='Q','Embarked']=1\n",
    "train_fin[\"Embarked\"] = train_fin[\"Embarked\"].astype(str).astype(float)\n",
    "#dropping passengerid\n",
    "train_fin = train_fin.drop(['PassengerId'],axis=1)"
   ]
  },
  {
   "cell_type": "code",
   "execution_count": 20,
   "id": "b023f7ba",
   "metadata": {
    "execution": {
     "iopub.execute_input": "2022-09-04T16:04:13.475702Z",
     "iopub.status.busy": "2022-09-04T16:04:13.475091Z",
     "iopub.status.idle": "2022-09-04T16:04:13.491422Z",
     "shell.execute_reply": "2022-09-04T16:04:13.490394Z"
    },
    "papermill": {
     "duration": 0.030066,
     "end_time": "2022-09-04T16:04:13.493791",
     "exception": false,
     "start_time": "2022-09-04T16:04:13.463725",
     "status": "completed"
    },
    "tags": []
   },
   "outputs": [
    {
     "data": {
      "text/html": [
       "<div>\n",
       "<style scoped>\n",
       "    .dataframe tbody tr th:only-of-type {\n",
       "        vertical-align: middle;\n",
       "    }\n",
       "\n",
       "    .dataframe tbody tr th {\n",
       "        vertical-align: top;\n",
       "    }\n",
       "\n",
       "    .dataframe thead th {\n",
       "        text-align: right;\n",
       "    }\n",
       "</style>\n",
       "<table border=\"1\" class=\"dataframe\">\n",
       "  <thead>\n",
       "    <tr style=\"text-align: right;\">\n",
       "      <th></th>\n",
       "      <th>Survived</th>\n",
       "      <th>Pclass</th>\n",
       "      <th>Sex</th>\n",
       "      <th>Age</th>\n",
       "      <th>SibSp</th>\n",
       "      <th>Parch</th>\n",
       "      <th>Fare</th>\n",
       "      <th>Embarked</th>\n",
       "    </tr>\n",
       "  </thead>\n",
       "  <tbody>\n",
       "    <tr>\n",
       "      <th>0</th>\n",
       "      <td>0</td>\n",
       "      <td>3</td>\n",
       "      <td>0.0</td>\n",
       "      <td>22.0</td>\n",
       "      <td>1</td>\n",
       "      <td>0</td>\n",
       "      <td>7.2500</td>\n",
       "      <td>3.0</td>\n",
       "    </tr>\n",
       "    <tr>\n",
       "      <th>1</th>\n",
       "      <td>1</td>\n",
       "      <td>1</td>\n",
       "      <td>1.0</td>\n",
       "      <td>38.0</td>\n",
       "      <td>1</td>\n",
       "      <td>0</td>\n",
       "      <td>71.2833</td>\n",
       "      <td>2.0</td>\n",
       "    </tr>\n",
       "    <tr>\n",
       "      <th>2</th>\n",
       "      <td>1</td>\n",
       "      <td>3</td>\n",
       "      <td>1.0</td>\n",
       "      <td>26.0</td>\n",
       "      <td>0</td>\n",
       "      <td>0</td>\n",
       "      <td>7.9250</td>\n",
       "      <td>3.0</td>\n",
       "    </tr>\n",
       "    <tr>\n",
       "      <th>3</th>\n",
       "      <td>1</td>\n",
       "      <td>1</td>\n",
       "      <td>1.0</td>\n",
       "      <td>35.0</td>\n",
       "      <td>1</td>\n",
       "      <td>0</td>\n",
       "      <td>53.1000</td>\n",
       "      <td>3.0</td>\n",
       "    </tr>\n",
       "    <tr>\n",
       "      <th>4</th>\n",
       "      <td>0</td>\n",
       "      <td>3</td>\n",
       "      <td>0.0</td>\n",
       "      <td>35.0</td>\n",
       "      <td>0</td>\n",
       "      <td>0</td>\n",
       "      <td>8.0500</td>\n",
       "      <td>3.0</td>\n",
       "    </tr>\n",
       "  </tbody>\n",
       "</table>\n",
       "</div>"
      ],
      "text/plain": [
       "   Survived  Pclass  Sex   Age  SibSp  Parch     Fare  Embarked\n",
       "0         0       3  0.0  22.0      1      0   7.2500       3.0\n",
       "1         1       1  1.0  38.0      1      0  71.2833       2.0\n",
       "2         1       3  1.0  26.0      0      0   7.9250       3.0\n",
       "3         1       1  1.0  35.0      1      0  53.1000       3.0\n",
       "4         0       3  0.0  35.0      0      0   8.0500       3.0"
      ]
     },
     "execution_count": 20,
     "metadata": {},
     "output_type": "execute_result"
    }
   ],
   "source": [
    "#confirming the data\n",
    "train_fin.head()"
   ]
  },
  {
   "cell_type": "code",
   "execution_count": 21,
   "id": "ba9f9af8",
   "metadata": {
    "execution": {
     "iopub.execute_input": "2022-09-04T16:04:13.536574Z",
     "iopub.status.busy": "2022-09-04T16:04:13.536167Z",
     "iopub.status.idle": "2022-09-04T16:04:13.557684Z",
     "shell.execute_reply": "2022-09-04T16:04:13.556324Z"
    },
    "papermill": {
     "duration": 0.035592,
     "end_time": "2022-09-04T16:04:13.560128",
     "exception": false,
     "start_time": "2022-09-04T16:04:13.524536",
     "status": "completed"
    },
    "tags": []
   },
   "outputs": [
    {
     "data": {
      "text/plain": [
       "PassengerId      0\n",
       "Pclass           0\n",
       "Name             0\n",
       "Sex              0\n",
       "Age              0\n",
       "SibSp            0\n",
       "Parch            0\n",
       "Ticket           0\n",
       "Fare             0\n",
       "Cabin          327\n",
       "Embarked         0\n",
       "dtype: int64"
      ]
     },
     "execution_count": 21,
     "metadata": {},
     "output_type": "execute_result"
    }
   ],
   "source": [
    "#fixing test data\n",
    "test['Age'] = test['Age'].fillna(test['Age'].mean())\n",
    "test['Fare'] = test['Fare'].fillna(test['Fare'].mean())\n",
    "test.loc[test.Sex=='female','Sex']=1\n",
    "test.loc[test.Sex=='male','Sex']=0\n",
    "test[\"Sex\"] = test[\"Sex\"].astype(str).astype(float)\n",
    "test.loc[test.Embarked =='S','Embarked']= 3\n",
    "test.loc[test.Embarked =='C','Embarked']=2\n",
    "test.loc[test.Embarked =='Q','Embarked']=1\n",
    "test[\"Embarked\"] = test[\"Embarked\"].astype(str).astype(float)\n",
    "test.isnull().sum()"
   ]
  },
  {
   "cell_type": "code",
   "execution_count": 22,
   "id": "7dca0dd8",
   "metadata": {
    "execution": {
     "iopub.execute_input": "2022-09-04T16:04:13.582984Z",
     "iopub.status.busy": "2022-09-04T16:04:13.582600Z",
     "iopub.status.idle": "2022-09-04T16:04:13.599521Z",
     "shell.execute_reply": "2022-09-04T16:04:13.598226Z"
    },
    "papermill": {
     "duration": 0.031441,
     "end_time": "2022-09-04T16:04:13.602068",
     "exception": false,
     "start_time": "2022-09-04T16:04:13.570627",
     "status": "completed"
    },
    "tags": []
   },
   "outputs": [
    {
     "data": {
      "text/html": [
       "<div>\n",
       "<style scoped>\n",
       "    .dataframe tbody tr th:only-of-type {\n",
       "        vertical-align: middle;\n",
       "    }\n",
       "\n",
       "    .dataframe tbody tr th {\n",
       "        vertical-align: top;\n",
       "    }\n",
       "\n",
       "    .dataframe thead th {\n",
       "        text-align: right;\n",
       "    }\n",
       "</style>\n",
       "<table border=\"1\" class=\"dataframe\">\n",
       "  <thead>\n",
       "    <tr style=\"text-align: right;\">\n",
       "      <th></th>\n",
       "      <th>PassengerId</th>\n",
       "      <th>Pclass</th>\n",
       "      <th>Sex</th>\n",
       "      <th>Age</th>\n",
       "      <th>SibSp</th>\n",
       "      <th>Parch</th>\n",
       "      <th>Fare</th>\n",
       "      <th>Embarked</th>\n",
       "    </tr>\n",
       "  </thead>\n",
       "  <tbody>\n",
       "    <tr>\n",
       "      <th>0</th>\n",
       "      <td>892</td>\n",
       "      <td>3</td>\n",
       "      <td>0.0</td>\n",
       "      <td>34.5</td>\n",
       "      <td>0</td>\n",
       "      <td>0</td>\n",
       "      <td>7.8292</td>\n",
       "      <td>1.0</td>\n",
       "    </tr>\n",
       "    <tr>\n",
       "      <th>1</th>\n",
       "      <td>893</td>\n",
       "      <td>3</td>\n",
       "      <td>1.0</td>\n",
       "      <td>47.0</td>\n",
       "      <td>1</td>\n",
       "      <td>0</td>\n",
       "      <td>7.0000</td>\n",
       "      <td>3.0</td>\n",
       "    </tr>\n",
       "    <tr>\n",
       "      <th>2</th>\n",
       "      <td>894</td>\n",
       "      <td>2</td>\n",
       "      <td>0.0</td>\n",
       "      <td>62.0</td>\n",
       "      <td>0</td>\n",
       "      <td>0</td>\n",
       "      <td>9.6875</td>\n",
       "      <td>1.0</td>\n",
       "    </tr>\n",
       "    <tr>\n",
       "      <th>3</th>\n",
       "      <td>895</td>\n",
       "      <td>3</td>\n",
       "      <td>0.0</td>\n",
       "      <td>27.0</td>\n",
       "      <td>0</td>\n",
       "      <td>0</td>\n",
       "      <td>8.6625</td>\n",
       "      <td>3.0</td>\n",
       "    </tr>\n",
       "    <tr>\n",
       "      <th>4</th>\n",
       "      <td>896</td>\n",
       "      <td>3</td>\n",
       "      <td>1.0</td>\n",
       "      <td>22.0</td>\n",
       "      <td>1</td>\n",
       "      <td>1</td>\n",
       "      <td>12.2875</td>\n",
       "      <td>3.0</td>\n",
       "    </tr>\n",
       "  </tbody>\n",
       "</table>\n",
       "</div>"
      ],
      "text/plain": [
       "   PassengerId  Pclass  Sex   Age  SibSp  Parch     Fare  Embarked\n",
       "0          892       3  0.0  34.5      0      0   7.8292       1.0\n",
       "1          893       3  1.0  47.0      1      0   7.0000       3.0\n",
       "2          894       2  0.0  62.0      0      0   9.6875       1.0\n",
       "3          895       3  0.0  27.0      0      0   8.6625       3.0\n",
       "4          896       3  1.0  22.0      1      1  12.2875       3.0"
      ]
     },
     "execution_count": 22,
     "metadata": {},
     "output_type": "execute_result"
    }
   ],
   "source": [
    "#dropping unwanted columns \n",
    "test = test.drop([\"Name\",\"Cabin\",\"Ticket\"],axis=1)\n",
    "test.head()"
   ]
  },
  {
   "cell_type": "code",
   "execution_count": 23,
   "id": "b333f4c7",
   "metadata": {
    "execution": {
     "iopub.execute_input": "2022-09-04T16:04:13.625969Z",
     "iopub.status.busy": "2022-09-04T16:04:13.625272Z",
     "iopub.status.idle": "2022-09-04T16:04:13.631329Z",
     "shell.execute_reply": "2022-09-04T16:04:13.630515Z"
    },
    "papermill": {
     "duration": 0.020554,
     "end_time": "2022-09-04T16:04:13.633836",
     "exception": false,
     "start_time": "2022-09-04T16:04:13.613282",
     "status": "completed"
    },
    "tags": []
   },
   "outputs": [],
   "source": [
    "x_test = test.drop(\"PassengerId\",axis=1)"
   ]
  },
  {
   "cell_type": "code",
   "execution_count": 24,
   "id": "90b17803",
   "metadata": {
    "execution": {
     "iopub.execute_input": "2022-09-04T16:04:13.657063Z",
     "iopub.status.busy": "2022-09-04T16:04:13.656354Z",
     "iopub.status.idle": "2022-09-04T16:04:13.662738Z",
     "shell.execute_reply": "2022-09-04T16:04:13.661610Z"
    },
    "papermill": {
     "duration": 0.020912,
     "end_time": "2022-09-04T16:04:13.665185",
     "exception": false,
     "start_time": "2022-09-04T16:04:13.644273",
     "status": "completed"
    },
    "tags": []
   },
   "outputs": [],
   "source": [
    "#setting variables for modelling\n",
    "x = train_fin.drop('Survived', axis=1)\n",
    "y = train_fin['Survived']"
   ]
  },
  {
   "cell_type": "code",
   "execution_count": 25,
   "id": "2bb00e72",
   "metadata": {
    "execution": {
     "iopub.execute_input": "2022-09-04T16:04:13.709074Z",
     "iopub.status.busy": "2022-09-04T16:04:13.708398Z",
     "iopub.status.idle": "2022-09-04T16:04:29.275766Z",
     "shell.execute_reply": "2022-09-04T16:04:29.274513Z"
    },
    "papermill": {
     "duration": 15.582056,
     "end_time": "2022-09-04T16:04:29.278803",
     "exception": false,
     "start_time": "2022-09-04T16:04:13.696747",
     "status": "completed"
    },
    "tags": []
   },
   "outputs": [
    {
     "name": "stdout",
     "output_type": "stream",
     "text": [
      "0.8792134831460674\n",
      "0.8876404494382022\n"
     ]
    }
   ],
   "source": [
    "#Modelling\n",
    "model_dt = GradientBoostingClassifier(min_samples_leaf=5,max_leaf_nodes=5)\n",
    "model_dt.fit(x,y)\n",
    "pred_y = model_dt.predict(x)\n",
    "acc = accuracy_score(y,pred_y)\n",
    "test_pred = model_dt.predict(x_test)\n",
    "print(acc)\n",
    "xgboost = XGBClassifier(learning_rate=0.005,\n",
    "                       n_estimators=6000,\n",
    "                       max_depth=4,\n",
    "                       min_child_weight=0,\n",
    "                       gamma=0.61,\n",
    "                       subsample=0.7,\n",
    "                       colsample_bytree=0.7,\n",
    "                       objective='reg:squarederror',\n",
    "                       nthread=-1,\n",
    "                       scale_pos_weight=1,\n",
    "                       seed=27,\n",
    "                       reg_alpha=0.00006,\n",
    "                       random_state=42)\n",
    "\n",
    "xgboost.fit(x,y)\n",
    "pred_xg = xgboost.predict(x)\n",
    "ac = accuracy_score(y,pred_xg)\n",
    "test_pred_xg = xgboost.predict(x_test)\n",
    "print(ac)"
   ]
  },
  {
   "cell_type": "code",
   "execution_count": 26,
   "id": "dc4dd14e",
   "metadata": {
    "execution": {
     "iopub.execute_input": "2022-09-04T16:04:29.304698Z",
     "iopub.status.busy": "2022-09-04T16:04:29.304252Z",
     "iopub.status.idle": "2022-09-04T16:04:29.309410Z",
     "shell.execute_reply": "2022-09-04T16:04:29.308207Z"
    },
    "papermill": {
     "duration": 0.019393,
     "end_time": "2022-09-04T16:04:29.311776",
     "exception": false,
     "start_time": "2022-09-04T16:04:29.292383",
     "status": "completed"
    },
    "tags": []
   },
   "outputs": [],
   "source": [
    "#x_reduced = []\n",
    "#for i in range(1,419):\n",
    "    #x_reduced.append(x[i])\n"
   ]
  },
  {
   "cell_type": "code",
   "execution_count": 27,
   "id": "f503bb2e",
   "metadata": {
    "execution": {
     "iopub.execute_input": "2022-09-04T16:04:29.335307Z",
     "iopub.status.busy": "2022-09-04T16:04:29.334582Z",
     "iopub.status.idle": "2022-09-04T16:05:13.371213Z",
     "shell.execute_reply": "2022-09-04T16:05:13.370036Z"
    },
    "papermill": {
     "duration": 44.051822,
     "end_time": "2022-09-04T16:05:13.374133",
     "exception": false,
     "start_time": "2022-09-04T16:04:29.322311",
     "status": "completed"
    },
    "tags": []
   },
   "outputs": [],
   "source": [
    "predictions = [round((i + j) / 2) for i,j in zip(test_pred,test_pred_xg)]\n",
    "xgboost.fit(x_test,predictions)\n",
    "predictio = xgboost.predict(x_test)\n",
    "predictions = [round((i + j) / 2) for i,j in zip(test_pred,predictio)]\n",
    "\n",
    "model_dt.fit(x_test,predictions)\n",
    "pred_a = model_dt.predict(x_test)\n",
    "predictions = [round((i + j) / 2) for i,j in zip(pred_a,predictio)]\n",
    "\n",
    "model_dt.fit(x_test,predictions)\n",
    "xgboost.fit(x_test,predictions)\n",
    "pred_b = model_dt.predict(x_test)\n",
    "pred_c = xgboost.predict(x_test)\n",
    "predictions = [round((i + j) / 2) for i,j in zip(pred_b,pred_c)]\n",
    "\n",
    "model_dt.fit(x_test,predictions)\n",
    "xgboost.fit(x_test,predictions)\n",
    "pred_d = model_dt.predict(x_test)\n",
    "pred_e = xgboost.predict(x_test)\n",
    "predictions = [round((i + j) / 2) for i,j in zip(pred_d,pred_e)]\n",
    "\n",
    "output = pd.DataFrame({'PassengerId': test.PassengerId, 'Survived': predictions})\n",
    "output.to_csv('submission1.csv', index=False)"
   ]
  }
 ],
 "metadata": {
  "kernelspec": {
   "display_name": "Python 3 (ipykernel)",
   "language": "python",
   "name": "python3"
  },
  "language_info": {
   "codemirror_mode": {
    "name": "ipython",
    "version": 3
   },
   "file_extension": ".py",
   "mimetype": "text/x-python",
   "name": "python",
   "nbconvert_exporter": "python",
   "pygments_lexer": "ipython3",
   "version": "3.9.12"
  },
  "papermill": {
   "default_parameters": {},
   "duration": 73.78925,
   "end_time": "2022-09-04T16:05:14.230166",
   "environment_variables": {},
   "exception": null,
   "input_path": "__notebook__.ipynb",
   "output_path": "__notebook__.ipynb",
   "parameters": {},
   "start_time": "2022-09-04T16:04:00.440916",
   "version": "2.3.4"
  }
 },
 "nbformat": 4,
 "nbformat_minor": 5
}
